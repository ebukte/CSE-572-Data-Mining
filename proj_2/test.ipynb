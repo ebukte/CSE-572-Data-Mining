{
 "cells": [
  {
   "cell_type": "code",
   "execution_count": 5,
   "metadata": {},
   "outputs": [],
   "source": [
    "# load data from csv file and save data into separate lists\n",
    "import csv\n",
    "import numpy as np\n",
    "import pandas as pd\n",
    "import matplotlib.pyplot as plt\n",
    "from sklearn.preprocessing import normalize\n",
    "from sklearn.metrics.cluster import normalized_mutual_info_score\n",
    "from scipy.fftpack import fft, ifft\n",
    "from sklearn.decomposition import PCA\n",
    "import warnings\n",
    "from sklearn.model_selection import train_test_split\n",
    "from sklearn import datasets\n",
    "from sklearn import svm\n",
    "from sklearn.model_selection import cross_val_score\n",
    "from sklearn.model_selection import KFold\n",
    "import pickle"
   ]
  },
  {
   "cell_type": "code",
   "execution_count": 8,
   "metadata": {},
   "outputs": [],
   "source": [
    "# Note that I assume you have one mealdata and one nomeal data for us to test\n",
    "# You didn't clarify the format of the testing data with me\n",
    "# I have to write it based on my assumption\n",
    "# You have to modify the code if it doesn't fit with the testing data\n",
    "\n",
    "# when read the data from CSV, the time stamp and associated GMC value should be reversed\n",
    "def read_raw_data():\n",
    "    x_1 =[]\n",
    "    with open(r'.\\MealNoMealData\\mealData'+str(1)+'.csv','rt')as f:\n",
    "        data = csv.reader(f)\n",
    "        for row in data:\n",
    "            x_1.append(row)\n",
    "    return x_1\n",
    "\n",
    "# this func is used to remove the data which contains 'NaN' and only use the first 30 data\n",
    "def smooth_data(y):\n",
    "    idx = []\n",
    "    size_y = len(y)\n",
    "    for i in range (size_y):\n",
    "        y[i] = y[i][:30]\n",
    "        y[i] = y[i][::-1]\n",
    "        if (len(y[i])!= 30):\n",
    "            idx.append(i)\n",
    "        elif 'NaN' in y[i]:\n",
    "            idx.append(i)      \n",
    "    for j in range (len(idx),0,-1):\n",
    "        del y[idx[j-1]]\n",
    "    return y"
   ]
  },
  {
   "cell_type": "code",
   "execution_count": 9,
   "metadata": {},
   "outputs": [
    {
     "name": "stdout",
     "output_type": "stream",
     "text": [
      "Number of rows from meal data: 51\n",
      "Number of rows from the processed meal data:  43\n"
     ]
    }
   ],
   "source": [
    "x1= read_raw_data()\n",
    "print('Number of rows from meal data:',len(x1))\n",
    "\n",
    "x1 = smooth_data(x1)\n",
    "print(\"Number of rows from the processed meal data: \",len(x1))"
   ]
  },
  {
   "cell_type": "code",
   "execution_count": 10,
   "metadata": {},
   "outputs": [],
   "source": [
    "# function for calculating the avg of changing velocity with window size 5, result in 6 features\n",
    "def avg_vel(y):\n",
    "    vel_y = []\n",
    "    avg_vel = []\n",
    "    window_size = 5\n",
    "    for i in range (len(y)-1):\n",
    "        vel = y[i+1]-y[i]\n",
    "        vel_y.append(vel)\n",
    "    np.asarray(vel_y)\n",
    "\n",
    "    for i in range (int(len(y)/window_size)):\n",
    "        if i != (int((len(y)/window_size)-1)):\n",
    "            avg = np.average(vel_y[(i*6):(i*6)+6])\n",
    "        avg_vel.append(avg)\n",
    "    array_vel = np.asarray(avg_vel)\n",
    "    array_vel = normalize(array_vel[:,np.newaxis], axis=0).ravel()\n",
    "    return array_vel\n",
    "\n",
    "\n",
    "def FFT_feature(y):\n",
    "    yf = 2.0/30 * np.abs(fft(y))\n",
    "    yf = np.delete(yf,0)\n",
    "    yf = np.unique(yf)\n",
    "    xx = np.arange(15)\n",
    "\n",
    "    max_yf = np.partition(yf,-6)[-6:]\n",
    "    max_yf = np.asarray(max_yf)\n",
    "    final_yf = normalize(max_yf[:,np.newaxis], axis=0).ravel()\n",
    "    return final_yf"
   ]
  },
  {
   "cell_type": "code",
   "execution_count": 11,
   "metadata": {},
   "outputs": [],
   "source": [
    "# extract feature and save it into feature metricx\n",
    "for i in range(len(x1)):\n",
    "    yy = np.asarray(x1[i],dtype=np.float32)\n",
    "    f1 = avg_vel(yy[:len(yy)-1])\n",
    "    f2 = FFT_feature(yy)\n",
    "    f12 = np.concatenate((f1, f2), axis=None)\n",
    "    f1 = f12\n",
    "#     f1 = FFT_feature(yy)\n",
    "#     f1 = avg_vel(yy)\n",
    "    if i == 0:\n",
    "        feature_m = f1\n",
    "    else:\n",
    "        feature_m = np.vstack((feature_m,f1))"
   ]
  },
  {
   "cell_type": "code",
   "execution_count": 14,
   "metadata": {},
   "outputs": [
    {
     "name": "stdout",
     "output_type": "stream",
     "text": [
      "[1. 1. 1. 0. 1. 0. 1. 0. 0. 1. 0. 1. 0. 0. 1. 0. 1. 0. 1. 0. 0. 1. 1. 1.\n",
      " 0. 0. 1. 0. 0. 0. 0. 1. 0. 1. 0. 1. 1. 1. 1. 1. 0. 1. 1.]\n"
     ]
    }
   ],
   "source": [
    "clf = pickle.load(open('model.pickle', 'rb'))\n",
    "result = clf.predict(feature_m)\n",
    "print(result)"
   ]
  },
  {
   "cell_type": "code",
   "execution_count": null,
   "metadata": {},
   "outputs": [],
   "source": []
  }
 ],
 "metadata": {
  "kernelspec": {
   "display_name": "Python 3",
   "language": "python",
   "name": "python3"
  },
  "language_info": {
   "codemirror_mode": {
    "name": "ipython",
    "version": 3
   },
   "file_extension": ".py",
   "mimetype": "text/x-python",
   "name": "python",
   "nbconvert_exporter": "python",
   "pygments_lexer": "ipython3",
   "version": "3.7.4"
  }
 },
 "nbformat": 4,
 "nbformat_minor": 2
}
