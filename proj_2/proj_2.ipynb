{
 "cells": [
  {
   "cell_type": "code",
   "execution_count": 221,
   "metadata": {},
   "outputs": [],
   "source": [
    "# load data from csv file and save data into separate lists\n",
    "import csv\n",
    "import numpy as np\n",
    "import pandas as pd\n",
    "import matplotlib.pyplot as plt\n",
    "from sklearn.preprocessing import normalize\n",
    "from sklearn.metrics.cluster import normalized_mutual_info_score\n",
    "from scipy.fftpack import fft, ifft\n",
    "from sklearn.decomposition import PCA\n",
    "import warnings\n",
    "from sklearn.model_selection import train_test_split\n",
    "from sklearn import datasets\n",
    "from sklearn import svm\n",
    "from sklearn.model_selection import cross_val_score\n",
    "from sklearn.model_selection import KFold\n",
    "from sklearn.metrics import classification_report\n",
    "import pickle"
   ]
  },
  {
   "cell_type": "code",
   "execution_count": 160,
   "metadata": {},
   "outputs": [],
   "source": [
    "# when read the data from CSV, the time stamp and associated GMC value should be reversed\n",
    "def read_raw_data():\n",
    "    x_1 =[]\n",
    "    x_2 =[]\n",
    "\n",
    "    for i in range (5):\n",
    "        x_1=[]\n",
    "        x_2=[]\n",
    "        with open(r'.\\MealNoMealData\\mealData'+str(i+1)+'.csv','rt')as f:\n",
    "            data = csv.reader(f)\n",
    "            for row in data:\n",
    "                x_1.append(row)\n",
    "        with open(r'.\\MealNoMealData\\nomeal'+str(i+1)+'.csv','rt')as ff:\n",
    "            data = csv.reader(ff)\n",
    "            for row in data:\n",
    "                x_2.append(row)\n",
    "        if i==0:\n",
    "            x1 = x_1\n",
    "            x2 = x_2\n",
    "        elif i!=0:\n",
    "            x1 = x1+x_1\n",
    "            x2 = x2+x_2\n",
    "    return x1,x2\n",
    "\n",
    "# this func is used to remove the data which contains 'NaN' and only use the first 30 data\n",
    "def smooth_data(y):\n",
    "    idx = []\n",
    "    size_y = len(y)\n",
    "    for i in range (size_y):\n",
    "        y[i] = y[i][:30]\n",
    "        y[i] = y[i][::-1]\n",
    "        if (len(y[i])!= 30):\n",
    "            idx.append(i)\n",
    "        elif 'NaN' in y[i]:\n",
    "            idx.append(i)      \n",
    "    for j in range (len(idx),0,-1):\n",
    "        del y[idx[j-1]]\n",
    "    return y"
   ]
  },
  {
   "cell_type": "code",
   "execution_count": 206,
   "metadata": {},
   "outputs": [
    {
     "name": "stdout",
     "output_type": "stream",
     "text": [
      "Number of rows from meal data: 255\n",
      "Number of rows from no meal data: 255\n",
      "Number of rows from the processed meal data:  216\n",
      "Number of rows from the processed no meal data:  219\n"
     ]
    }
   ],
   "source": [
    "x1,x2 = read_raw_data()\n",
    "print('Number of rows from meal data:',len(x1))\n",
    "print('Number of rows from no meal data:',len(x2))\n",
    "\n",
    "x1 = smooth_data(x1)\n",
    "print(\"Number of rows from the processed meal data: \",len(x1) )\n",
    "x2 = smooth_data(x2)\n",
    "print(\"Number of rows from the processed no meal data: \",len(x2))"
   ]
  },
  {
   "cell_type": "code",
   "execution_count": 162,
   "metadata": {},
   "outputs": [
    {
     "name": "stdout",
     "output_type": "stream",
     "text": [
      "30\n",
      "[71 71 72 73 73 74 76 80 83 86 87 86 84 85 86 85 85 86 87 88 90 94 96 96\n",
      " 94 91 89 89 91 93]\n"
     ]
    },
    {
     "data": {
      "image/png": "[encoded data removed]",
      "text/plain": [
       "<Figure size 432x288 with 1 Axes>"
      ]
     },
     "metadata": {
      "needs_background": "light"
     },
     "output_type": "display_data"
    }
   ],
   "source": [
    "# # plot and print the preprocessed data by using one example\n",
    "# print(len(x1[1]))\n",
    "# array_x = np.asarray(x1[100],dtype=int)\n",
    "# array_y = np.asarray(x2[2],dtype=int)\n",
    "# print(array_y)\n",
    "# xx = np.arange(30)\n",
    "\n",
    "# plt.figure(1)\n",
    "# plt.plot(xx,array_x)\n",
    "# plt.plot(xx,array_y)\n",
    "# plt.show()"
   ]
  },
  {
   "cell_type": "code",
   "execution_count": 254,
   "metadata": {},
   "outputs": [],
   "source": [
    "# function for calculating the avg of changing velocity with window size 5, result in 6 features\n",
    "def avg_vel(y):\n",
    "    average = sum(y)/len(y)\n",
    "    vel_y = []\n",
    "    avg_vel = []\n",
    "    window_size = 5\n",
    "    for i in range (len(y)-1):\n",
    "        vel = y[i+1]-y[i]\n",
    "        vel_y.append(vel)\n",
    "    np.asarray(vel_y)\n",
    "#     xx = np.arange(29)\n",
    "#     plt.plot(xx,vel_y)\n",
    "#     plt.grid(True)\n",
    "#     plt.show()\n",
    "    for i in range (int(len(y)/window_size)):\n",
    "        if i != (int((len(y)/window_size)-1)):\n",
    "            avg = np.average(vel_y[(i*6):(i*6)+6])\n",
    "        avg_vel.append(avg)\n",
    "    avg_vel.append(average)\n",
    "    array_vel = np.asarray(avg_vel)\n",
    "#     array_vel = normalize(array_vel[:,np.newaxis], axis=0).ravel()\n",
    "#     print('This is the avg_vel feature: ',array_vel)\n",
    "    return array_vel\n",
    "\n",
    "\n",
    "def FFT_feature(y):\n",
    "    yf = 2.0/30 * np.abs(fft(y))\n",
    "#     xf = np.linspace(0.0, 1.0, 15)\n",
    "    yf = np.delete(yf,0)\n",
    "    yf = np.unique(yf)\n",
    "    xx = np.arange(15)\n",
    "#     plt.plot(xx,yf[::-1])\n",
    "#     plt.grid(True)\n",
    "#     plt.show()\n",
    "    max_yf = np.partition(yf,-6)[-6:]\n",
    "    max_yf = np.asarray(max_yf)\n",
    "    final_yf = normalize(max_yf[:,np.newaxis], axis=0).ravel()\n",
    "#     print('This is the FFT feature: ',final_yf)\n",
    "    return max_yf"
   ]
  },
  {
   "cell_type": "code",
   "execution_count": 31,
   "metadata": {},
   "outputs": [
    {
     "data": {
      "image/png": "[encoded data removed]",
      "text/plain": [
       "<Figure size 432x288 with 1 Axes>"
      ]
     },
     "metadata": {
      "needs_background": "light"
     },
     "output_type": "display_data"
    },
    {
     "data": {
      "image/png": "[encoded data removed]",
      "text/plain": [
       "<Figure size 432x288 with 1 Axes>"
      ]
     },
     "metadata": {
      "needs_background": "light"
     },
     "output_type": "display_data"
    }
   ],
   "source": [
    "# # this is the result of selected feature\n",
    "# cc = avg_vel(array_x)\n",
    "# bb = avg_vel(array_y)"
   ]
  },
  {
   "cell_type": "code",
   "execution_count": 255,
   "metadata": {},
   "outputs": [],
   "source": [
    "# extract feature and save it into feature metricx\n",
    "for i in range(len(x1)):\n",
    "    yy = np.asarray(x1[i],dtype=np.float32)\n",
    "    f1 = avg_vel(yy[:len(yy)-1])\n",
    "    f2 = FFT_feature(yy)\n",
    "    f12 = np.concatenate((f1, f2), axis=None)\n",
    "    f1 = f12\n",
    "#     f1 = FFT_feature(yy)\n",
    "#     f1 = avg_vel(yy)\n",
    "    if i == 0:\n",
    "        feature_m1 = f1\n",
    "    else:\n",
    "        feature_m1 = np.vstack((feature_m1,f1))"
   ]
  },
  {
   "cell_type": "code",
   "execution_count": 256,
   "metadata": {},
   "outputs": [
    {
     "name": "stdout",
     "output_type": "stream",
     "text": [
      "[[  8.5          5.83333349  -4.5        ...   3.67491221   6.08407831\n",
      "   40.61717224]\n",
      " [  3.33333325   6.33333349  -6.5        ...  10.80150127  10.82747173\n",
      "   54.30354691]\n",
      " [ -1.33333337   5.33333349  15.16666698 ...  11.94858265  18.2335968\n",
      "   73.97637939]\n",
      " ...\n",
      " [ -4.          -3.5        -11.33333302 ...  22.89179611  35.60248947\n",
      "   80.97013855]\n",
      " [  0.16666667  12.16666698  11.         ...  20.84512901  35.48259354\n",
      "   99.12181854]\n",
      " [  2.16666675   0.83333331   0.33333334 ...  10.00497818  17.09724808\n",
      "   18.66364479]]\n"
     ]
    }
   ],
   "source": [
    "print(feature_m1)"
   ]
  },
  {
   "cell_type": "code",
   "execution_count": 257,
   "metadata": {},
   "outputs": [],
   "source": [
    "for i in range(len(x2)):\n",
    "    yy = np.asarray(x2[i],dtype=np.float32)\n",
    "    f1 = avg_vel(yy[:len(yy)-1])\n",
    "    f2 = FFT_feature(yy)\n",
    "    f12 = np.concatenate((f1, f2), axis=None)\n",
    "    f1 = f12\n",
    "#     f1 = FFT_feature(yy)\n",
    "#     f1 = avg_vel(yy)\n",
    "    if i == 0:\n",
    "        feature_m2 = f1\n",
    "    else:\n",
    "        feature_m2 = np.vstack((feature_m2,f1))"
   ]
  },
  {
   "cell_type": "code",
   "execution_count": 258,
   "metadata": {},
   "outputs": [
    {
     "name": "stdout",
     "output_type": "stream",
     "text": [
      "[[ 0.5         5.66666651  4.83333349 ... 10.56836891 21.81439209\n",
      "  49.45605469]\n",
      " [ 0.          1.          0.16666667 ...  1.94071567  6.15018034\n",
      "   6.40827656]\n",
      " [ 0.83333331  1.33333337  0.5        ...  2.13333344  5.53310061\n",
      "   8.01251411]\n",
      " ...\n",
      " [ 5.83333349  4.66666651  0.66666669 ... 18.36194611 22.59462547\n",
      "  34.16338348]\n",
      " [11.16666698  8.16666698  0.5        ... 12.40840244 32.13361359\n",
      "  47.38627243]\n",
      " [ 1.66666663  5.66666651  2.         ...  4.04472685  8.12174892\n",
      "  33.41304779]]\n"
     ]
    }
   ],
   "source": [
    "print(feature_m2)"
   ]
  },
  {
   "cell_type": "code",
   "execution_count": 259,
   "metadata": {},
   "outputs": [
    {
     "name": "stdout",
     "output_type": "stream",
     "text": [
      "(435,)\n",
      "(435, 12)\n"
     ]
    }
   ],
   "source": [
    "# merge two feature matrix together and create label set\n",
    "label_1 = np.ones(len(x1))\n",
    "label_2 = np.zeros(len(x2))\n",
    "feature_m = np.vstack((feature_m1,feature_m2))\n",
    "label = np.hstack((label_1,label_2))\n",
    "print(label.shape)\n",
    "print(feature_m.shape)"
   ]
  },
  {
   "cell_type": "code",
   "execution_count": null,
   "metadata": {},
   "outputs": [],
   "source": [
    "# new_array = np.concatenate((feature_m,label), axis=1)\n",
    "new_array = np.column_stack([feature_m,label])\n",
    "# np.concatenate((first, second), axis=1)\n",
    "print(new_array.shape)\n",
    "np.random.shuffle(new_array)\n",
    "for i in range (len(new_array)):\n",
    "    if i == 0:\n",
    "        feature_m = new_array[i][:12]\n",
    "        label = new_array[i][12]\n",
    "    else:\n",
    "        feature_m = np.vstack((feature_m,new_array[i][:12]))\n",
    "        label = np.hstack((label, new_array[i][12]))\n",
    "# print(feature_m.shape)\n",
    "# print(label)"
   ]
  },
  {
   "cell_type": "code",
   "execution_count": 217,
   "metadata": {},
   "outputs": [],
   "source": [
    "# X_train, X_test, y_train, y_test = train_test_split(feature_m, label, test_size=0.1, random_state=0)\n",
    "# X_train.shape, y_train.shape\n",
    "# X_test.shape, y_test.shape\n",
    "X_train = feature_m\n",
    "y_train = label\n",
    "clf = svm.SVC(kernel='linear', C=1).fit(X_train, y_train)\n",
    "# clf.score(X_test, y_test)\n",
    "pickle.dump(clf, open('model.pickle', 'wb'))"
   ]
  },
  {
   "cell_type": "code",
   "execution_count": null,
   "metadata": {},
   "outputs": [],
   "source": [
    "kf = KFold(n_splits=5)\n",
    "kf.get_n_splits(feature_m)\n",
    "print(\"This is the K-fold cross validation result:\")\n",
    "for train_index, test_index in kf.split(feature_m):\n",
    "    X_train, X_test = feature_m[train_index], feature_m[test_index]\n",
    "    y_train, y_test = label[train_index], label[test_index]\n",
    "    clf = svm.SVC(kernel='linear', C=10).fit(X_train, y_train)\n",
    "    y_pred = clf.predict(X_test)\n",
    "    print(classification_report(y_test,y_pred))"
   ]
  },
  {
   "cell_type": "code",
   "execution_count": null,
   "metadata": {},
   "outputs": [],
   "source": []
  }
 ],
 "metadata": {
  "kernelspec": {
   "display_name": "Python 3",
   "language": "python",
   "name": "python3"
  },
  "language_info": {
   "codemirror_mode": {
    "name": "ipython",
    "version": 3
   },
   "file_extension": ".py",
   "mimetype": "text/x-python",
   "name": "python",
   "nbconvert_exporter": "python",
   "pygments_lexer": "ipython3",
   "version": "3.7.4"
  }
 },
 "nbformat": 4,
 "nbformat_minor": 2
}
