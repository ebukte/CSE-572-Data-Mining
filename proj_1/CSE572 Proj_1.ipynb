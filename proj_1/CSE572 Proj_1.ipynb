{
 "cells": [
  {
   "cell_type": "code",
   "execution_count": 215,
   "metadata": {},
   "outputs": [],
   "source": [
    "# load data from csv file and save data into separate lists\n",
    "import csv\n",
    "import numpy as np\n",
    "import pandas as pd\n",
    "import matplotlib.pyplot as plt\n",
    "import warnings"
   ]
  },
  {
   "cell_type": "code",
   "execution_count": 216,
   "metadata": {},
   "outputs": [
    {
     "data": {
      "image/png": "[encoded data removed]",
      "text/plain": [
       "<Figure size 432x288 with 2 Axes>"
      ]
     },
     "metadata": {
      "needs_background": "light"
     },
     "output_type": "display_data"
    }
   ],
   "source": [
    "# this part is just showing what is the figures look like and \n",
    "i = 0\n",
    "a = pd.read_csv('.\\DataFolder\\CGMDatenumLunchPat'+str(i+1)+'.csv')\n",
    "b = pd.read_csv('.\\DataFolder\\CGMSeriesLunchPat'+str(i+1)+'.csv')\n",
    "plt.figure(1)\n",
    "plt.subplot(211)\n",
    "plt.plot(a.iloc[22],b.iloc[22])\n",
    "plt.subplot(212)\n",
    "plt.plot(a.iloc[23],b.iloc[23])\n",
    "plt.show()"
   ]
  },
  {
   "cell_type": "code",
   "execution_count": 217,
   "metadata": {},
   "outputs": [],
   "source": [
    "# when read the data from CSV, the time stamp and associated GMC value should be reversed\n",
    "def read_raw_data():\n",
    "    x =[]\n",
    "    y =[]\n",
    "\n",
    "    for i in range (5):\n",
    "        x_p=[]\n",
    "        y_p=[]\n",
    "        with open(r'.\\DataFolder\\CGMDatenumLunchPat'+str(i+1)+'.csv','rt')as f:\n",
    "            data = csv.reader(f)\n",
    "#             rows_x=[row for idx, row in enumerate(data) if idx<=20]# only use first 20 rows of the data\n",
    "            for row in data:\n",
    "                x_p.append(row[::-1])\n",
    "        with open(r'.\\DataFolder\\CGMSeriesLunchPat'+str(i+1)+'.csv','rt')as ff:\n",
    "            data = csv.reader(ff)\n",
    "#             rows_y=[row for idx, row in enumerate(data) if idx<=20]# only use first 20 rows of the data\n",
    "            for row in data:\n",
    "                y_p.append(row[::-1])\n",
    "        if i==0:\n",
    "            x = x_p[1:]\n",
    "            y = y_p[1:]\n",
    "        elif i!=0:\n",
    "            x = x+x_p[1:]\n",
    "            y = y+y_p[1:]\n",
    "    return x,y\n",
    "        \n",
    "\n",
    "# this func is used to remove the data which contains 'NaN' and only use the first 30 data\n",
    "def smooth_data(x,y):\n",
    "    idx = []\n",
    "    size_y = len(y)\n",
    "#     print(\"size: \", size_y)\n",
    "    for i in range (size_y):\n",
    "        x[i] = x[i][:30]\n",
    "        y[i] = y[i][:30]\n",
    "        if 'NaN' in y[i]:\n",
    "#             print('here',i)\n",
    "            idx.append(i)\n",
    "#     print(idx)        \n",
    "    for j in range (len(idx),0,-1):\n",
    "        del y[idx[j-1]]\n",
    "        del x[idx[j-1]]\n",
    "    return x,y"
   ]
  },
  {
   "cell_type": "code",
   "execution_count": 218,
   "metadata": {},
   "outputs": [
    {
     "name": "stdout",
     "output_type": "stream",
     "text": [
      "Number of rows from the raw data: 216\n",
      "Number of rows from the processed data:  186\n"
     ]
    }
   ],
   "source": [
    "x,y = read_raw_data()\n",
    "print('Number of rows from the raw data:',len(y))\n",
    "\n",
    "x,y = smooth_data(x,y)\n",
    "print(\"Number of rows from the processed data: \",len(y) )"
   ]
  },
  {
   "cell_type": "code",
   "execution_count": 220,
   "metadata": {},
   "outputs": [
    {
     "name": "stdout",
     "output_type": "stream",
     "text": [
      "30\n",
      "[ 91  92  91  90  91  91  97  99  98  99  99 102 113 131 146 163 179 194\n",
      " 207 213 221 228 236 241 246 252 254 258 260 258]\n",
      "['737225.479988426', '737225.483460648', '737225.48693287', '737225.490405093', '737225.493877315', '737225.497349537', '737225.500821759', '737225.504293981', '737225.507766204', '737225.511238426', '737225.514710648', '737225.51818287', '737225.521655093', '737225.525127315', '737225.528599537', '737225.532071759', '737225.535543981', '737225.539016204', '737225.542488426', '737225.545960648', '737225.54943287', '737225.552905093', '737225.556377315', '737225.559849537', '737225.563321759', '737225.566793981', '737225.570266204', '737225.573738426', '737225.577210648', '737225.58068287']\n"
     ]
    }
   ],
   "source": [
    "print(len(y[40]))\n",
    "array_x = np.asarray(x[0])\n",
    "array_y = np.asarray(y[0],dtype=int)\n",
    "print(array_y)\n",
    "print(x[0])"
   ]
  },
  {
   "cell_type": "code",
   "execution_count": 225,
   "metadata": {},
   "outputs": [
    {
     "name": "stdout",
     "output_type": "stream",
     "text": [
      "[ 1.39467479e-06  6.48684562e-05 -1.02063996e-02  2.95690841e-01\n",
      " -2.61404589e+00  7.58331515e+00  8.77494049e+01]\n"
     ]
    }
   ],
   "source": [
    "xx = np.arange(30)\n",
    "z = np.polyfit(xx, array_y, 6)\n",
    "print(z)"
   ]
  },
  {
   "cell_type": "code",
   "execution_count": null,
   "metadata": {},
   "outputs": [],
   "source": []
  },
  {
   "cell_type": "code",
   "execution_count": null,
   "metadata": {},
   "outputs": [],
   "source": []
  }
 ],
 "metadata": {
  "kernelspec": {
   "display_name": "Python 3",
   "language": "python",
   "name": "python3"
  },
  "language_info": {
   "codemirror_mode": {
    "name": "ipython",
    "version": 3
   },
   "file_extension": ".py",
   "mimetype": "text/x-python",
   "name": "python",
   "nbconvert_exporter": "python",
   "pygments_lexer": "ipython3",
   "version": "3.7.4"
  }
 },
 "nbformat": 4,
 "nbformat_minor": 2
}
