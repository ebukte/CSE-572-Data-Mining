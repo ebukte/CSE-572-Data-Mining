{
 "cells": [
  {
   "cell_type": "code",
   "execution_count": 1,
   "metadata": {},
   "outputs": [],
   "source": [
    "# load data from csv file and save data into separate lists\n",
    "import csv\n",
    "import numpy as np\n",
    "import pandas as pd\n",
    "import matplotlib.pyplot as plt\n",
    "from sklearn.preprocessing import normalize\n",
    "from sklearn.metrics.cluster import normalized_mutual_info_score\n",
    "from scipy.fftpack import fft, ifft\n",
    "from sklearn.decomposition import PCA\n",
    "import warnings\n",
    "from sklearn.model_selection import train_test_split\n",
    "from sklearn import datasets\n",
    "from sklearn import svm\n",
    "from sklearn.model_selection import cross_val_score\n",
    "from sklearn.model_selection import KFold\n",
    "from sklearn.metrics import classification_report\n",
    "from sklearn.cluster import KMeans\n",
    "import pickle"
   ]
  },
  {
   "cell_type": "code",
   "execution_count": 2,
   "metadata": {},
   "outputs": [],
   "source": [
    "# when read the data from CSV, the time stamp and associated GMC value should be reversed\n",
    "def read_raw_data():\n",
    "    x_1 =[]\n",
    "    x_2 =[]\n",
    "\n",
    "    for i in range (5):\n",
    "        x_1=[]\n",
    "        x_2=[]\n",
    "        with open(r'.\\mealData'+str(i+1)+'.csv','rt')as f:\n",
    "            data = csv.reader(f)\n",
    "            rows_x=[row for idx, row in enumerate(data) if idx<50]# only use first 20 rows of the data\n",
    "            for row in rows_x:\n",
    "                x_1.append(row)\n",
    "        with open(r'.\\MealAmountData'+str(i+1)+'.csv','rt')as ff:\n",
    "            data = csv.reader(ff)\n",
    "            rows_x=[row for idx, row in enumerate(data) if idx<50]# only use first 20 rows of the data\n",
    "            for row in rows_x:\n",
    "                x_2.append(row)\n",
    "        if i==0:\n",
    "            x1 = x_1\n",
    "            x2 = x_2\n",
    "        elif i!=0:\n",
    "            x1 = x1+x_1\n",
    "            x2 = x2+x_2\n",
    "    return x1,x2\n",
    "\n",
    "# this func is used to remove the data which contains 'NaN' and only use the first 30 data\n",
    "def smooth_data(y,x):\n",
    "    idx = []\n",
    "    size_y = len(y)\n",
    "    for i in range (size_y):\n",
    "        y[i] = y[i][:30]\n",
    "        y[i] = y[i][::-1]\n",
    "        if (len(y[i])!= 30):\n",
    "            idx.append(i)\n",
    "        elif 'NaN' in y[i]:\n",
    "            idx.append(i)      \n",
    "    for j in range (len(idx),0,-1):\n",
    "        del y[idx[j-1]]\n",
    "        del x[idx[j-1]]\n",
    "    return y, x"
   ]
  },
  {
   "cell_type": "code",
   "execution_count": 3,
   "metadata": {},
   "outputs": [
    {
     "name": "stdout",
     "output_type": "stream",
     "text": [
      "Number of rows from meal data: 250\n",
      "Number of meal amount data: 250\n",
      "Number of rows from the processed meal data:  211\n",
      "Number of rows from the processed meal amount data:  211\n"
     ]
    }
   ],
   "source": [
    "x1,x2 = read_raw_data()\n",
    "print('Number of rows from meal data:',len(x1))\n",
    "print('Number of meal amount data:',len(x2))\n",
    "\n",
    "x1, x2 = smooth_data(x1, x2)\n",
    "print(\"Number of rows from the processed meal data: \",len(x1) )\n",
    "print(\"Number of rows from the processed meal amount data: \",len(x2))"
   ]
  },
  {
   "cell_type": "code",
   "execution_count": 4,
   "metadata": {},
   "outputs": [],
   "source": [
    "def extract_ground_truth(x2):\n",
    "    bin_truth = []\n",
    "    for i in range (len(x2)):\n",
    "        if int(x2[i][0]) == 0:\n",
    "            bin_truth.append(1)\n",
    "        elif (int(x2[i][0])>0) and (int(x2[i][0])<=20):\n",
    "            bin_truth.append(2)\n",
    "        elif (int(x2[i][0])>20) and (int(x2[i][0])<=40):\n",
    "            bin_truth.append(3)\n",
    "        elif (int(x2[i][0])>40) and (int(x2[i][0])<=60):\n",
    "            bin_truth.append(4)\n",
    "        elif (int(x2[i][0])>60) and (int(x2[i][0])<=80):\n",
    "            bin_truth.append(5)\n",
    "        elif (int(x2[i][0])>80) and (int(x2[i][0])<=100):\n",
    "            bin_truth.append(6)\n",
    "    return bin_truth  "
   ]
  },
  {
   "cell_type": "code",
   "execution_count": 5,
   "metadata": {},
   "outputs": [
    {
     "name": "stdout",
     "output_type": "stream",
     "text": [
      "number of points in Bin 1 56\n",
      "number of points in Bin 2 45\n",
      "number of points in Bin 3 29\n",
      "number of points in Bin 4 55\n",
      "number of points in Bin 5 19\n",
      "number of points in Bin 6 7\n"
     ]
    }
   ],
   "source": [
    "bin_truth = extract_ground_truth(x2)\n",
    "print(\"number of points in Bin 1\",bin_truth.count(1))\n",
    "print(\"number of points in Bin 2\",bin_truth.count(2))\n",
    "print(\"number of points in Bin 3\",bin_truth.count(3))\n",
    "print(\"number of points in Bin 4\",bin_truth.count(4))\n",
    "print(\"number of points in Bin 5\",bin_truth.count(5))\n",
    "print(\"number of points in Bin 6\",bin_truth.count(6))"
   ]
  },
  {
   "cell_type": "code",
   "execution_count": 6,
   "metadata": {},
   "outputs": [],
   "source": [
    "# function for calculating the avg of changing velocity with window size 3, result in 10 features\n",
    "def avg_vel(y):\n",
    "    average = sum(y)/len(y)\n",
    "    vel_y = []\n",
    "    avg_vel = []\n",
    "    window_size = 3\n",
    "    for i in range (len(y)-1):\n",
    "        vel = y[i+1]-y[i]\n",
    "        vel_y.append(vel)\n",
    "    np.asarray(vel_y)\n",
    "\n",
    "    for i in range (int(len(y)/window_size)):\n",
    "        if i != (int((len(y)/window_size)-1)):\n",
    "            avg = np.average(vel_y[(i*3):(i*3)+3])\n",
    "        avg_vel.append(avg)\n",
    "    array_vel = np.asarray(avg_vel)\n",
    "    array_vel = normalize(array_vel[:,np.newaxis], axis=0).ravel()\n",
    "#     array_vel = (array_vel - min(array_vel))/(max(array_vel)-min(array_vel))\n",
    "    return array_vel\n",
    "\n",
    "# function for calculating the avg of meal amount with window size 3, result in 10 features\n",
    "def avg_win(y):\n",
    "    avg_win = []\n",
    "    window_size = 3\n",
    "    for i in range (int(len(y)/window_size)):\n",
    "        if i != (int((len(y)/window_size)-1)):\n",
    "            avg = np.average(y[(i*3):(i*3)+3])\n",
    "        avg_win.append(avg)\n",
    "    array_win = np.asarray(avg_win)\n",
    "    array_win = normalize(array_win[:,np.newaxis], axis=0).ravel()\n",
    "#     array_vel = (array_vel - min(array_vel))/(max(array_vel)-min(array_vel))\n",
    "    return array_win\n",
    "\n",
    "def max_increase(y):\n",
    "    change = []\n",
    "    y = list(map(int, y))\n",
    "    y_0 = y[5]\n",
    "    y_max = max(y[5:])\n",
    "    y_end = y[29]\n",
    "    max_increase = (y_max - y_0)/y_0\n",
    "    max_decrease = (y_max - y_end)/y_end\n",
    "    before_change = max(y[:5])-min(y[:5])\n",
    "    change.append(max_increase)\n",
    "    change.append(max_decrease)\n",
    "    change.append(before_change)\n",
    "    change = np.asarray(change,dtype=np.float32)\n",
    "    changed = normalize(change[:,np.newaxis], axis=0).ravel()\n",
    "#     changed = (change-min(change))/(max(change)-min(change))\n",
    "    return changed"
   ]
  },
  {
   "cell_type": "code",
   "execution_count": 7,
   "metadata": {},
   "outputs": [
    {
     "name": "stdout",
     "output_type": "stream",
     "text": [
      "[-0.06823118 -0.04093871  0.02729247  0.40938706  0.66866553  0.57314188\n",
      "  0.04093871 -0.05458494  0.15010859  0.15010859]\n",
      "[0.23715839 0.         0.971471  ]\n",
      "[0.17256348 0.1636614  0.16092229 0.17324826 0.26021477 0.3553986\n",
      " 0.41634364 0.40675678 0.42113707 0.42113707]\n"
     ]
    }
   ],
   "source": [
    "array_x = np.asarray(x1[2],dtype=int)\n",
    "cc = avg_vel(array_x)\n",
    "print(cc)\n",
    "dd = max_increase(array_x)\n",
    "print(dd)\n",
    "ee = avg_win(array_x)\n",
    "print(ee)"
   ]
  },
  {
   "cell_type": "code",
   "execution_count": 8,
   "metadata": {},
   "outputs": [],
   "source": [
    "# extract feature and save it into feature metricx\n",
    "for i in range(len(x1)):\n",
    "    yy = np.asarray(x1[i],dtype=np.float32)\n",
    "    f1 = avg_vel(yy)\n",
    "    f2 = max_increase(yy)\n",
    "    f1 = np.concatenate((f1, f2), axis=None)\n",
    "#     f3 = avg_win(yy)\n",
    "#     f1 = np.concatenate((f12, f3), axis=None)\n",
    "    if i == 0:\n",
    "        feature_m1 = f1\n",
    "    else:\n",
    "        feature_m1 = np.vstack((feature_m1,f1))"
   ]
  },
  {
   "cell_type": "code",
   "execution_count": 9,
   "metadata": {},
   "outputs": [
    {
     "name": "stdout",
     "output_type": "stream",
     "text": [
      "[[ 0.22011779  0.64342123  0.33864275 ...  0.01708368  0.02572302\n",
      "   0.99952304]\n",
      " [-0.01279635  0.2687233   0.21753791 ...  0.13975823  0.9273988\n",
      "   0.34698594]\n",
      " [-0.06823117 -0.04093871  0.02729247 ...  0.23715839  0.\n",
      "   0.971471  ]\n",
      " ...\n",
      " [ 0.14610927 -0.5977197  -0.5445891  ...  0.          0.07047059\n",
      "   0.9975139 ]\n",
      " [-0.06292918 -0.23913091 -0.28947425 ...  0.          0.08656408\n",
      "   0.9962463 ]\n",
      " [-0.07015745  0.08185035  0.19877942 ...  0.1998337   0.\n",
      "   0.9798298 ]]\n"
     ]
    }
   ],
   "source": [
    "print(feature_m1)"
   ]
  },
  {
   "cell_type": "code",
   "execution_count": 86,
   "metadata": {},
   "outputs": [
    {
     "data": {
      "image/png": "[encoded data removed]",
      "text/plain": [
       "<Figure size 432x288 with 1 Axes>"
      ]
     },
     "metadata": {
      "needs_background": "light"
     },
     "output_type": "display_data"
    }
   ],
   "source": [
    "# calculate distortion for a range of number of cluster\n",
    "distortions = []\n",
    "for i in range(6, 50):\n",
    "    km = KMeans(\n",
    "        n_clusters=i, init='random',\n",
    "        n_init=10, max_iter=300,\n",
    "        tol=1e-04, random_state=0\n",
    "    )\n",
    "    km.fit(feature_m1)\n",
    "    distortions.append(km.inertia_)\n",
    "\n",
    "# plot\n",
    "plt.plot(range(6, 50), distortions, marker='o')\n",
    "plt.xlabel('Number of clusters')\n",
    "plt.ylabel('Distortion')\n",
    "plt.show()\n",
    "\n",
    "kmeans = KMeans(n_clusters=37, random_state=0).fit(feature_m1)\n",
    "label = kmeans.labels_\n",
    "label = list(label)\n",
    "n_cluster = 37\n",
    "idx_keep = [i for i in range (len(label))]\n",
    "def try_model_kmeans(label,feature_m1,n_cluster,idx_keep):\n",
    "    cluster = []\n",
    "    bin_cluster = []\n",
    "    bin_index = []\n",
    "    result = []\n",
    "    bin_1 = []\n",
    "    bin_2 = []\n",
    "    bin_3 = []\n",
    "    bin_4 = []\n",
    "    bin_5 = []\n",
    "    bin_6 = []\n",
    "    bin_1_idx = []\n",
    "    bin_2_idx = []\n",
    "    bin_3_idx = []\n",
    "    bin_4_idx = []\n",
    "    bin_5_idx = []\n",
    "    bin_6_idx = []\n",
    "    idx_save = []\n",
    "    for j in range (n_cluster):\n",
    "        cluster_j = [ i for i in range(len(label)) if label[i] == j ]\n",
    "        idx_save_j = [idx_keep[i] for i in cluster_j]\n",
    "                \n",
    "        cluster.append(cluster_j)\n",
    "        idx_save.append(idx_save_j)\n",
    "    for j in range (n_cluster):\n",
    "        result_label = [bin_truth[i] for i in cluster[j]]\n",
    "#         print(max(set(result_label), key=result_label.count), \" \", len(result_label))\n",
    "        result.append(max(set(result_label), key=result_label.count))\n",
    "    for k in range (n_cluster):\n",
    "        if result[k]==1:\n",
    "            bin_1 = bin_1 + cluster[k]\n",
    "            bin_1_idx = bin_1_idx + idx_save[k]\n",
    "        elif result[k]==2:\n",
    "            bin_2 = bin_2 + cluster[k]\n",
    "            bin_2_idx = bin_2_idx + idx_save[k]\n",
    "        elif result[k]==3:\n",
    "            bin_3 = bin_3 + cluster[k]\n",
    "            bin_3_idx = bin_3_idx + idx_save[k]\n",
    "        elif result[k]==4:\n",
    "            bin_4 = bin_4 + cluster[k]\n",
    "            bin_4_idx = bin_4_idx + idx_save[k]\n",
    "        elif result[k]==5:\n",
    "            bin_5 = bin_5 + cluster[k]\n",
    "            bin_5_idx = bin_5_idx + idx_save[k]\n",
    "        elif result[k]==6:\n",
    "            bin_6 = bin_6 + cluster[k]\n",
    "            bin_6_idx = bin_6_idx + idx_save[k]\n",
    "    bin_cluster.append(bin_1)\n",
    "    bin_cluster.append(bin_2)\n",
    "    bin_cluster.append(bin_3)\n",
    "    bin_cluster.append(bin_4)\n",
    "    bin_cluster.append(bin_5)\n",
    "    bin_cluster.append(bin_6)\n",
    "    bin_index.append(bin_1_idx)\n",
    "    bin_index.append(bin_2_idx)\n",
    "    bin_index.append(bin_3_idx)\n",
    "    bin_index.append(bin_4_idx)\n",
    "    bin_index.append(bin_5_idx)\n",
    "    bin_index.append(bin_6_idx)\n",
    "    return bin_cluster, bin_index"
   ]
  },
  {
   "cell_type": "code",
   "execution_count": 87,
   "metadata": {},
   "outputs": [],
   "source": [
    "bin_cluster, bin_index = try_model_kmeans(label,feature_m1,n_cluster,idx_keep)"
   ]
  },
  {
   "cell_type": "code",
   "execution_count": 106,
   "metadata": {},
   "outputs": [
    {
     "name": "stdout",
     "output_type": "stream",
     "text": [
      "1-st Kmeans result:\n",
      "Bin Num\n",
      "1   103\n",
      "2   37\n",
      "3   5\n",
      "4   52\n",
      "5   14\n",
      "6   0\n",
      "########## Tree Height = 2 ############\n",
      "2-nd Kmeans result:\n",
      "Bin Num\n",
      "1   51\n",
      "2   21\n",
      "3   0\n",
      "4   20\n",
      "5   6\n",
      "6   5\n",
      "3-rd Kmeans result:\n",
      "Bin Num\n",
      "1   21\n",
      "2   4\n",
      "3   10\n",
      "4   17\n",
      "5   0\n",
      "6   0\n"
     ]
    }
   ],
   "source": [
    "print(\"1-st Kmeans result:\")\n",
    "print(\"Bin\",\"Num\")\n",
    "for i in range (6):\n",
    "    print(i+1, \" \", len(bin_cluster[i]))\n",
    "\n",
    "print(\"########## Tree Height = 2 ############\")\n",
    "f1 = [feature_m1[i] for i in bin_cluster[0]]\n",
    "bin_index_1 = bin_index[0]\n",
    "kmeans_1 = KMeans(n_clusters=23, random_state=0).fit(f1)\n",
    "label_1 = list(kmeans_1.labels_)\n",
    "bin_cluster_2nd, bin_index_2nd = try_model_kmeans(label_1,f1,23,bin_index_1)\n",
    "print(\"2-nd Kmeans result:\")\n",
    "print(\"Bin\",\"Num\")\n",
    "for i in range (6):\n",
    "    print(i+1, \" \", len(bin_cluster_2nd[i]))\n",
    "    \n",
    "f2 = [feature_m1[i] for i in bin_cluster[3]]\n",
    "bin_index_2 = bin_index[3]\n",
    "kmeans_2 = KMeans(n_clusters=6, random_state=0).fit(f2)\n",
    "label_2 = list(kmeans_2.labels_)\n",
    "bin_cluster_3rd, bin_index_3rd = try_model_kmeans(label_2,f2,6,bin_index_2)\n",
    "print(\"3-rd Kmeans result:\")\n",
    "print(\"Bin\",\"Num\")\n",
    "for i in range (6):\n",
    "    print(i+1, \" \", len(bin_cluster_3rd[i]))\n",
    "\n",
    "    \n",
    "# f3 = [feature_m1[i] for i in bin_cluster[3]]\n",
    "# kmeans_3 = KMeans(n_clusters=10, random_state=0).fit(f3)\n",
    "# label_3 = list(kmeans_3.labels_)\n",
    "# bin_cluster_4th = try_model_kmeans(label_3,f3,10)\n",
    "# print(\"4-th Kmeans result:\")\n",
    "# print(\"Bin\",\"Num\")\n",
    "# for i in range (6):\n",
    "#     print(i+1, \" \", len(bin_cluster_4th[i]))\n",
    "    \n",
    "# print(\"########## Tree Height = 3 ############\")\n",
    "# f3 = [feature_m1[i] for i in bin_cluster_2nd[0]]\n",
    "# kmeans_3 = KMeans(n_clusters=6, random_state=0).fit(f3)\n",
    "# label_3 = list(kmeans_3.labels_)\n",
    "# bin_cluster_4th = try_model_kmeans(label_3,f3,6)\n",
    "# print(\"4-th Kmeans result:\")\n",
    "# print(\"Bin\",\"Num\")\n",
    "# for i in range (6):\n",
    "#     print(i+1, \" \", len(bin_cluster_4th[i]))\n",
    "    \n",
    "\n",
    "# f4 = [feature_m1[i] for i in bin_cluster_2nd[4]]\n",
    "# kmeans_4 = KMeans(n_clusters=6, random_state=0).fit(f4)\n",
    "# label_4 = list(kmeans_4.labels_)\n",
    "# bin_cluster_5th = try_model_kmeans(label_4,f4,6)\n",
    "# print(\"5-th Kmeans result:\")\n",
    "# print(\"Bin\",\"Num\")\n",
    "# for i in range (6):\n",
    "#     print(i+1, \" \", len(bin_cluster_5th[i]))"
   ]
  },
  {
   "cell_type": "code",
   "execution_count": 107,
   "metadata": {},
   "outputs": [
    {
     "name": "stdout",
     "output_type": "stream",
     "text": [
      "[4, 5, 2, 5, 3, 5, 2, 5, 1, 2, 1, 1, 2, 4, 1, 5, 4, 5, 2, 5, 2, 1, 1, 2, 1, 2, 1, 1, 5, 1, 5, 1, 5, 4, 2, 1, 2, 4, 2, 5, 1, 2, 3, 1, 4, 1, 5, 2, 2, 3, 5, 2, 5, 6, 2, 1, 1, 2, 2, 4, 1, 6, 4, 2, 2, 2, 2, 1, 2, 4, 1, 4, 4, 1, 1, 2, 1, 4, 1, 4, 2, 2, 1, 4, 2, 1, 1, 1, 2, 4, 4, 2, 1, 1, 2, 1, 1, 1, 4, 1, 4, 2, 1, 4, 2, 2, 4, 2, 5, 2, 1, 5, 2, 1, 2, 2, 1, 1, 4, 1, 1, 2, 5, 2, 2, 1, 1, 1, 2, 2, 2, 2, 1, 1, 2, 5, 4, 1, 1, 3, 4, 4, 3, 1, 1, 3, 3, 2, 2, 4, 1, 1, 2, 1, 1, 3, 1, 2, 2, 2, 4, 2, 1, 2, 1, 2, 4, 3, 1, 4, 3, 2, 4, 4, 2, 1, 2, 6, 1, 3, 1, 1, 4, 2, 1, 4, 2, 1, 1, 2, 3, 6, 4, 3, 6, 5, 1, 4, 1, 4, 1, 1, 1, 3, 1, 4, 1, 5, 2, 4, 3]\n"
     ]
    }
   ],
   "source": [
    "final_result = [0]*len(feature_m1)\n",
    "final_bin1 = bin_index_2nd[0]+bin_index_3rd[0]\n",
    "final_bin2 = bin_index[1]+bin_index_2nd[1]+bin_index_3rd[1]\n",
    "final_bin3 = bin_index[2]+bin_index_2nd[2]+bin_index_3rd[2]\n",
    "final_bin4 = bin_index_2nd[3]+bin_index_3rd[3]\n",
    "final_bin5 = bin_index[4]+bin_index_2nd[4]+bin_index_3rd[4]\n",
    "final_bin6 = bin_index[5]+bin_index_2nd[5]+bin_index_3rd[5]\n",
    "label_bin1 = [1]*len(final_bin1)\n",
    "label_bin2 = [2]*len(final_bin2)\n",
    "label_bin3 = [3]*len(final_bin3)\n",
    "label_bin4 = [4]*len(final_bin4)\n",
    "label_bin5 = [5]*len(final_bin5)\n",
    "label_bin6 = [6]*len(final_bin6)\n",
    "\n",
    "\n",
    "for (i, j) in zip(final_bin1, label_bin1):\n",
    "    final_result[i] = j\n",
    "    \n",
    "for (i, j) in zip(final_bin2, label_bin2):\n",
    "    final_result[i] = j\n",
    "    \n",
    "for (i, j) in zip(final_bin3, label_bin3):\n",
    "    final_result[i] = j\n",
    "    \n",
    "for (i, j) in zip(final_bin4, label_bin4):\n",
    "    final_result[i] = j\n",
    "    \n",
    "for (i, j) in zip(final_bin5, label_bin5):\n",
    "    final_result[i] = j\n",
    "    \n",
    "for (i, j) in zip(final_bin6, label_bin6):\n",
    "    final_result[i] = j\n",
    "\n",
    "print(final_result)"
   ]
  },
  {
   "cell_type": "code",
   "execution_count": 110,
   "metadata": {},
   "outputs": [
    {
     "name": "stdout",
     "output_type": "stream",
     "text": [
      "-----------------------------\n",
      "the reported accuracy is:  0.3412322274881517\n",
      "-----------------------------\n"
     ]
    }
   ],
   "source": [
    "score = 0\n",
    "for i in range(len(final_result)):\n",
    "    if (final_result[i] == bin_truth[i]):\n",
    "        score = score +1\n",
    "final_score = score/(len(final_result))\n",
    "print(\"-----------------------------\")\n",
    "print(\"the reported accuracy is: \", final_score)\n",
    "print(\"-----------------------------\")"
   ]
  },
  {
   "cell_type": "code",
   "execution_count": 198,
   "metadata": {},
   "outputs": [
    {
     "name": "stdout",
     "output_type": "stream",
     "text": [
      "[4, 5, 4, 5, 4, 5, 4, 5, 4, 5, 4, 5, 4, 5, 4, 5, 4, 6, 3, 5, 3, 5, 4, 6, 3, 6, 1, 5, 2, 6, 1, 5, 2, 6, 1, 5, 2, 6, 1, 5, 3, 6, 3, 1, 3, 1, 5, 1, 2, 3, 3, 1, 5, 1, 2, 3, 3, 2, 1, 5, 1, 2, 2, 3, 2, 1, 5, 3, 2, 3, 1, 2, 3, 2, 3, 2, 1, 5, 1, 1, 1, 1, 4, 1, 4, 1, 4, 1, 3, 4, 1, 4, 4, 1, 1, 3, 4, 1, 4, 1, 3, 4, 1, 1, 1, 4, 4, 2, 1, 1, 1, 1, 1, 4, 4, 1, 1, 1, 4, 2, 2, 2, 1, 2, 2, 1, 1, 3, 4, 2, 2, 2, 4, 2, 3, 1, 3, 4, 2, 2, 2, 4, 2, 3, 1, 3, 4, 2, 2, 2, 4, 2, 3, 1, 3, 4, 2, 2, 2, 4, 2, 3, 1, 3, 4, 2, 2, 4, 4, 4, 4, 4, 1, 4, 4, 1, 4, 4, 4, 1, 4, 4, 2, 2, 1, 4, 1, 4, 4, 2, 2, 1, 4, 4, 2, 2, 1, 4, 4, 2, 2, 1, 4, 3, 1, 1, 4, 1, 4, 3, 1]\n"
     ]
    }
   ],
   "source": [
    "print(bin_truth)"
   ]
  }
 ],
 "metadata": {
  "kernelspec": {
   "display_name": "Python 3",
   "language": "python",
   "name": "python3"
  },
  "language_info": {
   "codemirror_mode": {
    "name": "ipython",
    "version": 3
   },
   "file_extension": ".py",
   "mimetype": "text/x-python",
   "name": "python",
   "nbconvert_exporter": "python",
   "pygments_lexer": "ipython3",
   "version": "3.7.4"
  }
 },
 "nbformat": 4,
 "nbformat_minor": 2
}
