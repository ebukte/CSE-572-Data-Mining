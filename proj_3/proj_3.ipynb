{
 "cells": [
  {
   "cell_type": "code",
   "execution_count": 33,
   "metadata": {},
   "outputs": [],
   "source": [
    "# load data from csv file and save data into separate lists\n",
    "import csv\n",
    "import numpy as np\n",
    "import pandas as pd\n",
    "import matplotlib.pyplot as plt\n",
    "from sklearn.preprocessing import normalize\n",
    "from sklearn.metrics.cluster import normalized_mutual_info_score\n",
    "from scipy.fftpack import fft, ifft\n",
    "from sklearn.decomposition import PCA\n",
    "import warnings\n",
    "from sklearn.model_selection import train_test_split\n",
    "from sklearn import datasets\n",
    "from sklearn import svm\n",
    "from sklearn.model_selection import cross_val_score\n",
    "from sklearn.model_selection import KFold\n",
    "from sklearn.metrics import classification_report\n",
    "import pickle"
   ]
  },
  {
   "cell_type": "code",
   "execution_count": 34,
   "metadata": {},
   "outputs": [],
   "source": [
    "# when read the data from CSV, the time stamp and associated GMC value should be reversed\n",
    "def read_raw_data():\n",
    "    x_1 =[]\n",
    "    x_2 =[]\n",
    "\n",
    "    for i in range (5):\n",
    "        x_1=[]\n",
    "        x_2=[]\n",
    "        with open(r'.\\mealData'+str(i+1)+'.csv','rt')as f:\n",
    "            data = csv.reader(f)\n",
    "            rows_x=[row for idx, row in enumerate(data) if idx<50]# only use first 20 rows of the data\n",
    "            for row in rows_x:\n",
    "                x_1.append(row)\n",
    "        with open(r'.\\MealAmountData'+str(i+1)+'.csv','rt')as ff:\n",
    "            data = csv.reader(ff)\n",
    "            rows_x=[row for idx, row in enumerate(data) if idx<50]# only use first 20 rows of the data\n",
    "            for row in rows_x:\n",
    "                x_2.append(row)\n",
    "        if i==0:\n",
    "            x1 = x_1\n",
    "            x2 = x_2\n",
    "        elif i!=0:\n",
    "            x1 = x1+x_1\n",
    "            x2 = x2+x_2\n",
    "    return x1,x2\n",
    "\n",
    "# this func is used to remove the data which contains 'NaN' and only use the first 30 data\n",
    "def smooth_data(y,x):\n",
    "    idx = []\n",
    "    size_y = len(y)\n",
    "    for i in range (size_y):\n",
    "        y[i] = y[i][:30]\n",
    "        y[i] = y[i][::-1]\n",
    "        if (len(y[i])!= 30):\n",
    "            idx.append(i)\n",
    "        elif 'NaN' in y[i]:\n",
    "            idx.append(i)      \n",
    "    for j in range (len(idx),0,-1):\n",
    "        del y[idx[j-1]]\n",
    "        del x[idx[j-1]]\n",
    "    return y, x"
   ]
  },
  {
   "cell_type": "code",
   "execution_count": 35,
   "metadata": {},
   "outputs": [
    {
     "name": "stdout",
     "output_type": "stream",
     "text": [
      "Number of rows from meal data: 250\n",
      "Number of meal amount data: 250\n",
      "Number of rows from the processed meal data:  211\n",
      "Number of rows from the processed meal amount data:  211\n"
     ]
    }
   ],
   "source": [
    "x1,x2 = read_raw_data()\n",
    "print('Number of rows from meal data:',len(x1))\n",
    "print('Number of meal amount data:',len(x2))\n",
    "\n",
    "x1, x2 = smooth_data(x1, x2)\n",
    "print(\"Number of rows from the processed meal data: \",len(x1) )\n",
    "print(\"Number of rows from the processed meal amount data: \",len(x2))"
   ]
  },
  {
   "cell_type": "code",
   "execution_count": 36,
   "metadata": {},
   "outputs": [],
   "source": [
    "def extract_ground_truth(x2):\n",
    "    bin_truth = []\n",
    "    for i in range (len(x2)):\n",
    "        if int(x2[i][0]) == 0:\n",
    "            bin_truth.append(1)\n",
    "        elif (int(x2[i][0])>0) and (int(x2[i][0])<=20):\n",
    "            bin_truth.append(2)\n",
    "        elif (int(x2[i][0])>20) and (int(x2[i][0])<=40):\n",
    "            bin_truth.append(3)\n",
    "        elif (int(x2[i][0])>40) and (int(x2[i][0])<=60):\n",
    "            bin_truth.append(4)\n",
    "        elif (int(x2[i][0])>60) and (int(x2[i][0])<=80):\n",
    "            bin_truth.append(5)\n",
    "        elif (int(x2[i][0])>80) and (int(x2[i][0])<=100):\n",
    "            bin_truth.append(6)\n",
    "    return bin_truth  "
   ]
  },
  {
   "cell_type": "code",
   "execution_count": 37,
   "metadata": {},
   "outputs": [
    {
     "name": "stdout",
     "output_type": "stream",
     "text": [
      "[4, 5, 4, 5, 4, 5, 4, 5, 4, 5, 4, 5, 4, 5, 4, 5, 4, 6, 3, 5, 3, 5, 4, 6, 3, 6, 1, 5, 2, 6, 1, 5, 2, 6, 1, 5, 2, 6, 1, 5, 3, 6, 3, 1, 3, 1, 5, 1, 2, 3, 3, 1, 5, 1, 2, 3, 3, 2, 1, 5, 1, 2, 2, 3, 2, 1, 5, 3, 2, 3, 1, 2, 3, 2, 3, 2, 1, 5, 1, 1, 1, 1, 4, 1, 4, 1, 4, 1, 3, 4, 1, 4, 4, 1, 1, 3, 4, 1, 4, 1, 3, 4, 1, 1, 1, 4, 4, 2, 1, 1, 1, 1, 1, 4, 4, 1, 1, 1, 4, 2, 2, 2, 1, 2, 2, 1, 1, 3, 4, 2, 2, 2, 4, 2, 3, 1, 3, 4, 2, 2, 2, 4, 2, 3, 1, 3, 4, 2, 2, 2, 4, 2, 3, 1, 3, 4, 2, 2, 2, 4, 2, 3, 1, 3, 4, 2, 2, 4, 4, 4, 4, 4, 1, 4, 4, 1, 4, 4, 4, 1, 4, 4, 2, 2, 1, 4, 1, 4, 4, 2, 2, 1, 4, 4, 2, 2, 1, 4, 4, 2, 2, 1, 4, 3, 1, 1, 4, 1, 4, 3, 1]\n"
     ]
    }
   ],
   "source": [
    "bin_truth = extract_ground_truth(x2)\n",
    "print(bin_truth)"
   ]
  },
  {
   "cell_type": "code",
   "execution_count": 84,
   "metadata": {},
   "outputs": [],
   "source": [
    "# function for calculating the avg of changing velocity with window size 3, result in 10 features\n",
    "def avg_vel(y):\n",
    "    average = sum(y)/len(y)\n",
    "    vel_y = []\n",
    "    avg_vel = []\n",
    "    window_size = 3\n",
    "    for i in range (len(y)-1):\n",
    "        vel = y[i+1]-y[i]\n",
    "        vel_y.append(vel)\n",
    "    np.asarray(vel_y)\n",
    "\n",
    "    for i in range (int(len(y)/window_size)):\n",
    "        if i != (int((len(y)/window_size)-1)):\n",
    "            avg = np.average(vel_y[(i*3):(i*3)+3])\n",
    "        avg_vel.append(avg)\n",
    "    array_vel = np.asarray(avg_vel)\n",
    "    array_vel = normalize(array_vel[:,np.newaxis], axis=0).ravel()\n",
    "#     array_vel = (array_vel - min(array_vel))/(max(array_vel)-min(array_vel))\n",
    "    return array_vel\n",
    "\n",
    "def max_increase(y):\n",
    "    change = []\n",
    "    y = list(map(int, y))\n",
    "    y_0 = y[5]\n",
    "    y_max = max(y[5:])\n",
    "    y_end = y[29]\n",
    "    max_increase = (y_max - y_0)/y_0\n",
    "    max_decrease = (y_max - y_end)/y_end\n",
    "    before_change = max(y[:5])-min(y[:5])\n",
    "    change.append(max_increase)\n",
    "    change.append(max_decrease)\n",
    "    change.append(before_change)\n",
    "    change = np.asarray(change,dtype=np.float32)\n",
    "    changed = normalize(change[:,np.newaxis], axis=0).ravel()\n",
    "#     changed = (change-min(change))/(max(change)-min(change))\n",
    "    return changed"
   ]
  },
  {
   "cell_type": "code",
   "execution_count": 85,
   "metadata": {},
   "outputs": [
    {
     "name": "stdout",
     "output_type": "stream",
     "text": [
      "[-0.06823118 -0.04093871  0.02729247  0.40938706  0.66866553  0.57314188\n",
      "  0.04093871 -0.05458494  0.15010859  0.15010859]\n",
      "[0.23715839 0.         0.971471  ]\n"
     ]
    }
   ],
   "source": [
    "array_x = np.asarray(x1[2],dtype=int)\n",
    "cc = avg_vel(array_x)\n",
    "print(cc)\n",
    "dd = max_increase(array_x)\n",
    "print(dd)"
   ]
  },
  {
   "cell_type": "code",
   "execution_count": 86,
   "metadata": {},
   "outputs": [],
   "source": [
    "# extract feature and save it into feature metricx\n",
    "for i in range(len(x1)):\n",
    "    yy = np.asarray(x1[i],dtype=np.float32)\n",
    "    f1 = avg_vel(yy)\n",
    "    f2 = max_increase(yy)\n",
    "    f12 = np.concatenate((f1, f2), axis=None)\n",
    "    f1 = f12\n",
    "    if i == 0:\n",
    "        feature_m1 = f1\n",
    "    else:\n",
    "        feature_m1 = np.vstack((feature_m1,f1))"
   ]
  },
  {
   "cell_type": "code",
   "execution_count": 87,
   "metadata": {},
   "outputs": [
    {
     "name": "stdout",
     "output_type": "stream",
     "text": [
      "[[ 0.22011779  0.64342123  0.33864275 ...  0.01708368  0.02572302\n",
      "   0.99952304]\n",
      " [-0.01279635  0.2687233   0.21753791 ...  0.13975823  0.9273988\n",
      "   0.34698594]\n",
      " [-0.06823117 -0.04093871  0.02729247 ...  0.23715839  0.\n",
      "   0.971471  ]\n",
      " ...\n",
      " [ 0.14610927 -0.5977197  -0.5445891  ...  0.          0.07047059\n",
      "   0.9975139 ]\n",
      " [-0.06292918 -0.23913091 -0.28947425 ...  0.          0.08656408\n",
      "   0.9962463 ]\n",
      " [-0.07015745  0.08185035  0.19877942 ...  0.1998337   0.\n",
      "   0.9798298 ]]\n"
     ]
    }
   ],
   "source": [
    "print(feature_m1)"
   ]
  },
  {
   "cell_type": "code",
   "execution_count": 81,
   "metadata": {},
   "outputs": [
    {
     "name": "stdout",
     "output_type": "stream",
     "text": [
      "[1, 2, 3]\n"
     ]
    }
   ],
   "source": []
  },
  {
   "cell_type": "code",
   "execution_count": null,
   "metadata": {},
   "outputs": [],
   "source": []
  }
 ],
 "metadata": {
  "kernelspec": {
   "display_name": "Python 3",
   "language": "python",
   "name": "python3"
  },
  "language_info": {
   "codemirror_mode": {
    "name": "ipython",
    "version": 3
   },
   "file_extension": ".py",
   "mimetype": "text/x-python",
   "name": "python",
   "nbconvert_exporter": "python",
   "pygments_lexer": "ipython3",
   "version": "3.7.4"
  }
 },
 "nbformat": 4,
 "nbformat_minor": 2
}
